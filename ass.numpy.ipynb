{
 "cells": [
  {
   "cell_type": "code",
   "execution_count": null,
   "id": "8e57577b-95b5-4677-96db-bc8d944dd4f7",
   "metadata": {},
   "outputs": [],
   "source": [
    "               # Name :- Rohit Bhardwaj\n",
    "               # Assignment :- Numpy Basic\n",
    "\n",
    "\n",
    "\n",
    "\n"
   ]
  },
  {
   "cell_type": "code",
   "execution_count": 1,
   "id": "4bedfd55-0af6-4338-8671-cc0adde3af42",
   "metadata": {},
   "outputs": [],
   "source": [
    "import numpy as np"
   ]
  },
  {
   "cell_type": "code",
   "execution_count": 2,
   "id": "2da4670a-1d0d-4469-85f7-f12693819731",
   "metadata": {},
   "outputs": [],
   "source": [
    "list_ = [ 1 , 2 , 3 , 4 , 5 ]\n",
    "array_list = np.array(object = list_)\n",
    "\n",
    "\n",
    "\n",
    "# Q1. Is there any difference in the data type of variables list_ and array_list? If there is then write a code\n",
    "# to print the data types of both the variables."
   ]
  },
  {
   "cell_type": "code",
   "execution_count": 3,
   "id": "02d2c6b1-5c56-4f0b-9625-d911a7924879",
   "metadata": {},
   "outputs": [
    {
     "data": {
      "text/plain": [
       "array([1, 2, 3, 4, 5])"
      ]
     },
     "execution_count": 3,
     "metadata": {},
     "output_type": "execute_result"
    }
   ],
   "source": [
    "array_list"
   ]
  },
  {
   "cell_type": "code",
   "execution_count": 7,
   "id": "229e8e9b-836b-4742-9ef1-4480c4b8fe13",
   "metadata": {},
   "outputs": [
    {
     "data": {
      "text/plain": [
       "numpy.ndarray"
      ]
     },
     "execution_count": 7,
     "metadata": {},
     "output_type": "execute_result"
    }
   ],
   "source": [
    "array_list.dtype\n",
    "type(array_list)"
   ]
  },
  {
   "cell_type": "code",
   "execution_count": 6,
   "id": "2704b329-e729-4674-bebb-cb6ee15030d6",
   "metadata": {},
   "outputs": [
    {
     "data": {
      "text/plain": [
       "list"
      ]
     },
     "execution_count": 6,
     "metadata": {},
     "output_type": "execute_result"
    }
   ],
   "source": [
    "type(list_)"
   ]
  },
  {
   "cell_type": "code",
   "execution_count": 8,
   "id": "78d8daaf-ff45-4a0d-b1df-c79bc0045e9a",
   "metadata": {},
   "outputs": [],
   "source": [
    "# Q3. Considering the following changes in the variable, array_list:\n",
    "    \n",
    "array_list = np.array(object = list_, dtype = int)"
   ]
  },
  {
   "cell_type": "code",
   "execution_count": null,
   "id": "bf09695a-dd06-4792-add2-364a18db21c1",
   "metadata": {},
   "outputs": [],
   "source": []
  },
  {
   "cell_type": "code",
   "execution_count": 9,
   "id": "dfbe5bff-7b99-46ca-9c45-5d6673f866be",
   "metadata": {},
   "outputs": [],
   "source": [
    "# Consider the below code to answer further questions:\n",
    "\n",
    "\n",
    "import numpy as np\n",
    "num_list = [ [ 1 , 2 , 3 ] , [ 4 , 5 , 6 ] ]\n",
    "num_array = np.array(object = num_list)"
   ]
  },
  {
   "cell_type": "code",
   "execution_count": 10,
   "id": "75fb1506-9da7-4954-97bf-d150b0502912",
   "metadata": {},
   "outputs": [],
   "source": [
    "# Q4. Write a code to find the following characteristics of variable, num_array:\n",
    "# (i) shape\n",
    "# (ii) size"
   ]
  },
  {
   "cell_type": "code",
   "execution_count": 12,
   "id": "6590cb13-a38e-48a3-a652-b553bb8ca175",
   "metadata": {},
   "outputs": [
    {
     "data": {
      "text/plain": [
       "(2, 3)"
      ]
     },
     "execution_count": 12,
     "metadata": {},
     "output_type": "execute_result"
    }
   ],
   "source": [
    "num_array.shape"
   ]
  },
  {
   "cell_type": "code",
   "execution_count": 13,
   "id": "d8f50478-c918-4e91-a0b8-3bef946d8c58",
   "metadata": {},
   "outputs": [
    {
     "data": {
      "text/plain": [
       "6"
      ]
     },
     "execution_count": 13,
     "metadata": {},
     "output_type": "execute_result"
    }
   ],
   "source": [
    "num_array.size"
   ]
  },
  {
   "cell_type": "code",
   "execution_count": 14,
   "id": "9f0790c4-b9b5-4238-84d4-240eee25b6df",
   "metadata": {},
   "outputs": [],
   "source": [
    "# Q5. Write a code to create numpy array of 3*3 matrix containing zeros only, using a numpy array\n",
    "# creation function.\n",
    "# [Hint: The size of the array will be 9 and the shape will be (3,3).]"
   ]
  },
  {
   "cell_type": "code",
   "execution_count": null,
   "id": "e45b4d1d-9133-401b-baee-0e68ef887db5",
   "metadata": {},
   "outputs": [],
   "source": []
  },
  {
   "cell_type": "code",
   "execution_count": 19,
   "id": "dcb1ef88-dcaf-4897-ad6e-038364075cda",
   "metadata": {},
   "outputs": [],
   "source": [
    "data = np.random.randint(0,1,(3,3))"
   ]
  },
  {
   "cell_type": "code",
   "execution_count": 20,
   "id": "b0c82bd5-b5f1-4177-aa11-c4f3b3128d87",
   "metadata": {},
   "outputs": [
    {
     "data": {
      "text/plain": [
       "array([[0, 0, 0],\n",
       "       [0, 0, 0],\n",
       "       [0, 0, 0]])"
      ]
     },
     "execution_count": 20,
     "metadata": {},
     "output_type": "execute_result"
    }
   ],
   "source": [
    "data"
   ]
  },
  {
   "cell_type": "code",
   "execution_count": 21,
   "id": "60d66145-6b5c-41cc-a97f-a55d43e87bae",
   "metadata": {},
   "outputs": [],
   "source": [
    "# Q6. Create an identity matrix of shape (5,5) using numpy functions?\n",
    "# [Hint: An identity matrix is a matrix containing 1 diagonally and other elements will be 0.]"
   ]
  },
  {
   "cell_type": "code",
   "execution_count": 25,
   "id": "c15f761d-43a1-4e2d-8004-a38dc14bb2b7",
   "metadata": {},
   "outputs": [],
   "source": [
    "data1 = np.eye(5,5)"
   ]
  },
  {
   "cell_type": "code",
   "execution_count": 26,
   "id": "c4b26d13-ce9b-48aa-9195-c8dfd78553cd",
   "metadata": {},
   "outputs": [
    {
     "data": {
      "text/plain": [
       "array([[1., 0., 0., 0., 0.],\n",
       "       [0., 1., 0., 0., 0.],\n",
       "       [0., 0., 1., 0., 0.],\n",
       "       [0., 0., 0., 1., 0.],\n",
       "       [0., 0., 0., 0., 1.]])"
      ]
     },
     "execution_count": 26,
     "metadata": {},
     "output_type": "execute_result"
    }
   ],
   "source": [
    "data1"
   ]
  },
  {
   "cell_type": "code",
   "execution_count": 27,
   "id": "896eb308-1d43-4adc-92cc-6a2a871287bc",
   "metadata": {},
   "outputs": [],
   "source": [
    "data2 = np.diag([1,1,1,1,1,])"
   ]
  },
  {
   "cell_type": "code",
   "execution_count": 28,
   "id": "72f32627-6397-4779-9c88-7fd24383d95e",
   "metadata": {},
   "outputs": [
    {
     "data": {
      "text/plain": [
       "array([[1, 0, 0, 0, 0],\n",
       "       [0, 1, 0, 0, 0],\n",
       "       [0, 0, 1, 0, 0],\n",
       "       [0, 0, 0, 1, 0],\n",
       "       [0, 0, 0, 0, 1]])"
      ]
     },
     "execution_count": 28,
     "metadata": {},
     "output_type": "execute_result"
    }
   ],
   "source": [
    "data2"
   ]
  },
  {
   "cell_type": "code",
   "execution_count": null,
   "id": "fbf0d322-5aa9-49e2-93bf-15615a3618d6",
   "metadata": {},
   "outputs": [],
   "source": []
  }
 ],
 "metadata": {
  "kernelspec": {
   "display_name": "Python 3 (ipykernel)",
   "language": "python",
   "name": "python3"
  },
  "language_info": {
   "codemirror_mode": {
    "name": "ipython",
    "version": 3
   },
   "file_extension": ".py",
   "mimetype": "text/x-python",
   "name": "python",
   "nbconvert_exporter": "python",
   "pygments_lexer": "ipython3",
   "version": "3.10.8"
  }
 },
 "nbformat": 4,
 "nbformat_minor": 5
}
